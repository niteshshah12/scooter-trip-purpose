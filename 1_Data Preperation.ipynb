{
 "cells": [
  {
   "cell_type": "code",
   "execution_count": 4,
   "metadata": {},
   "outputs": [],
   "source": [
    "import pandas as pd\n",
    "import seaborn as sns\n",
    "import matplotlib.pyplot as plt\n",
    "import folium\n",
    "\n",
    "import ast\n",
    "\n",
    "%matplotlib inline\n"
   ]
  },
  {
   "cell_type": "code",
   "execution_count": 2,
   "metadata": {},
   "outputs": [],
   "source": [
    "'''This function reads the raw data and cleans the data based on basic criteria. '''\n",
    "def basic_cleaning():\n",
    "    #read raw data file\n",
    "    data = pd.read_csv('data/trip_dataset.csv')\n",
    "    \n",
    "#     #sample small data to test code BUT comment out for final script\n",
    "#     data = data.sample(1000)\n",
    "\n",
    "    #store original number of observation \n",
    "    data_TripNumber_original = len(data)\n",
    "\n",
    "\n",
    "    \n",
    "    #---------------------------------------------------------------------------------------------------------------\n",
    "    #CONVERT START AND END DATE AND TIME TO PANDAS DATETIME FORMAT\n",
    "    #drop row with null startDateTime and endDateTime\n",
    "    data = data.dropna(subset = ['startDate','startTime','endDate','endTime'])\n",
    "    data['startDateTime']=data.apply(lambda x: pd.to_datetime(x['startDate'][:10]+ ' ' + x['startTime'][:8], \n",
    "                                                              format='%Y-%m-%d %H:%M:%S'), axis=1)\n",
    "    data['endDateTime']=data.apply(lambda x: pd.to_datetime(x['endDate'][:10]+ ' ' + x['endTime'][:8], \n",
    "                                                            format='%Y-%m-%d %H:%M:%S'), axis=1)\n",
    "\n",
    "    #data['pubTimeStamp_pd'] = data.apply(lambda x: pd.to_datetimetime(x['pubTimeStamp'], format='%Y-%m-%d %H:%M:%S'), axis=1)\n",
    "\n",
    "    \n",
    "\n",
    "    \n",
    "    #------------------------------------------------------------------------------------------------------------------\n",
    "    #SLICE DATA FROM \n",
    "    data = data.loc[(data['startDateTime']>'2018-9-01') & (data['startDateTime']<'2019-8-31')]\n",
    "    data_TripNumber_sliced_removed = len(data) \n",
    "    \n",
    "    #------------------------------------------------------------------------------------------------------------------\n",
    "    #PRELIMINARY DATA CLEANING\n",
    "    \n",
    "    #REMOVE MISSING VALUES\n",
    "    #drop na variables and store remaining number of observation \n",
    "    data = data.dropna()\n",
    "    data_TripNumber_NAN_sliced_removed = len(data)\n",
    "    \n",
    "    \n",
    "    #remove trips whose trip duration is less than 1 minutes and more than 180 minutes (inlusive)\n",
    "    data = data[data['tripDuration'].between(1,180)]\n",
    "    data_TripNumber_NAN_sliced_duration_removed = len(data)\n",
    "\n",
    "    #remove trips whose trip distance is less than 200 ft and more than greater than 52800 (10 mile) (inlusive)\n",
    "    data = data[data['tripDistance'].between(200,52800)] #five miles\n",
    "    data_TripNumber_NAN_sliced_duration_distance_removed = len(data) \n",
    "\n",
    "    #remove observation with too few GPS trace data\n",
    "    data = data[data['tripRoute'].str.len()>10]\n",
    "    data_TripNumber_NAN_sliced_duration_distance_fewGPSpoints_removed = len(data) \n",
    "\n",
    "\n",
    "    #DATA CLEANING BECAUSE OF SOME GLITCH\n",
    "    #remove special character (\"\") from the data\n",
    "    data['tripRoute'] = data.apply(lambda x: x['tripRoute'].strip().replace('\"',''), axis=1)\n",
    "\n",
    "\n",
    "\n",
    "    #drop columns\n",
    "    data = data.drop(columns=['startDate','startTime','endDate','endTime','create_dt','pubTimeStamp'])\n",
    "    \n",
    "    #rename index column as trip ID\n",
    "    data =data.reset_index().rename(columns={'index':'trip_id'})\n",
    "\n",
    "\n",
    "    data_count={'original number of trips':data_TripNumber_original,\n",
    "               'number of trips removed during slicing':data_TripNumber_original - data_TripNumber_sliced_removed,\n",
    "                 'number of trips removed due to missing values': data_TripNumber_sliced_removed - data_TripNumber_NAN_sliced_removed,\n",
    "               'total number of trips after slicing':data_TripNumber_NAN_sliced_removed,\n",
    "               'number of trips removed due to duration criteria':data_TripNumber_NAN_sliced_removed - data_TripNumber_NAN_sliced_duration_removed,\n",
    "               'number of trips removed due to distance criteria':data_TripNumber_NAN_sliced_duration_removed - data_TripNumber_NAN_sliced_duration_distance_removed,\n",
    "               'number of trips removed due to few GPS trips':data_TripNumber_NAN_sliced_duration_distance_removed - data_TripNumber_NAN_sliced_duration_distance_fewGPSpoints_removed,\n",
    "                'total number of trips after cleaning':data_TripNumber_NAN_sliced_duration_distance_fewGPSpoints_removed\n",
    "               }\n",
    "\n",
    "    return data, data_count\n"
   ]
  },
  {
   "cell_type": "code",
   "execution_count": 5,
   "metadata": {},
   "outputs": [
    {
     "name": "stdout",
     "output_type": "stream",
     "text": [
      "execution time:  398.4425091743469\n"
     ]
    }
   ],
   "source": [
    "import time\n",
    "start_time = time.time()\n",
    "\n",
    "#call function to read and clean the data\n",
    "(data, count) = basic_cleaning()\n",
    "\n",
    "elapsed_time = time.time() - start_time\n",
    "print(\"execution time: \",elapsed_time)"
   ]
  },
  {
   "cell_type": "code",
   "execution_count": 6,
   "metadata": {},
   "outputs": [
    {
     "data": {
      "text/html": [
       "<div>\n",
       "<style scoped>\n",
       "    .dataframe tbody tr th:only-of-type {\n",
       "        vertical-align: middle;\n",
       "    }\n",
       "\n",
       "    .dataframe tbody tr th {\n",
       "        vertical-align: top;\n",
       "    }\n",
       "\n",
       "    .dataframe thead th {\n",
       "        text-align: right;\n",
       "    }\n",
       "</style>\n",
       "<table border=\"1\" class=\"dataframe\">\n",
       "  <thead>\n",
       "    <tr style=\"text-align: right;\">\n",
       "      <th></th>\n",
       "      <th>trip_id</th>\n",
       "      <th>companyName</th>\n",
       "      <th>tripRecordNum</th>\n",
       "      <th>sumdID</th>\n",
       "      <th>tripDuration</th>\n",
       "      <th>tripDistance</th>\n",
       "      <th>startLatitude</th>\n",
       "      <th>startLongitude</th>\n",
       "      <th>endLatitude</th>\n",
       "      <th>endLongitude</th>\n",
       "      <th>tripRoute</th>\n",
       "      <th>startDateTime</th>\n",
       "      <th>endDateTime</th>\n",
       "    </tr>\n",
       "  </thead>\n",
       "  <tbody>\n",
       "    <tr>\n",
       "      <td>0</td>\n",
       "      <td>9</td>\n",
       "      <td>Bird</td>\n",
       "      <td>BRD4</td>\n",
       "      <td>PoweredUNKWN</td>\n",
       "      <td>7.0</td>\n",
       "      <td>7007.87424</td>\n",
       "      <td>36.1651</td>\n",
       "      <td>-86.7785</td>\n",
       "      <td>36.1622</td>\n",
       "      <td>-86.7683</td>\n",
       "      <td>[[36.165096,-86.778367],[36.165091,-86.778374]...</td>\n",
       "      <td>2018-09-01 12:13:22</td>\n",
       "      <td>2018-09-01 12:20:14</td>\n",
       "    </tr>\n",
       "    <tr>\n",
       "      <td>1</td>\n",
       "      <td>10</td>\n",
       "      <td>Bird</td>\n",
       "      <td>BRD8</td>\n",
       "      <td>PoweredUNKWN</td>\n",
       "      <td>35.0</td>\n",
       "      <td>22473.75400</td>\n",
       "      <td>36.1760</td>\n",
       "      <td>-86.7871</td>\n",
       "      <td>36.1733</td>\n",
       "      <td>-86.7857</td>\n",
       "      <td>[[36.176036,-86.787034],[36.176036,-86.787034]...</td>\n",
       "      <td>2018-09-01 12:14:46</td>\n",
       "      <td>2018-09-01 12:49:27</td>\n",
       "    </tr>\n",
       "    <tr>\n",
       "      <td>2</td>\n",
       "      <td>11</td>\n",
       "      <td>Bird</td>\n",
       "      <td>BRD9</td>\n",
       "      <td>PoweredUNKWN</td>\n",
       "      <td>37.0</td>\n",
       "      <td>26912.73052</td>\n",
       "      <td>36.1643</td>\n",
       "      <td>-86.7770</td>\n",
       "      <td>36.1750</td>\n",
       "      <td>-86.7819</td>\n",
       "      <td>[[36.164271,-86.777062],[36.164271,-86.777062]...</td>\n",
       "      <td>2018-09-01 12:15:11</td>\n",
       "      <td>2018-09-01 12:51:44</td>\n",
       "    </tr>\n",
       "    <tr>\n",
       "      <td>3</td>\n",
       "      <td>12</td>\n",
       "      <td>Bird</td>\n",
       "      <td>BRD10</td>\n",
       "      <td>PoweredUNKWN</td>\n",
       "      <td>21.0</td>\n",
       "      <td>278.87140</td>\n",
       "      <td>36.1642</td>\n",
       "      <td>-86.7811</td>\n",
       "      <td>36.1647</td>\n",
       "      <td>-86.7803</td>\n",
       "      <td>[[36.164203,-86.78109],[36.164203,-86.78109],[...</td>\n",
       "      <td>2018-09-01 12:46:21</td>\n",
       "      <td>2018-09-01 13:07:25</td>\n",
       "    </tr>\n",
       "    <tr>\n",
       "      <td>4</td>\n",
       "      <td>13</td>\n",
       "      <td>Bird</td>\n",
       "      <td>BRD12</td>\n",
       "      <td>PoweredUNKWN</td>\n",
       "      <td>52.0</td>\n",
       "      <td>23182.41544</td>\n",
       "      <td>36.1643</td>\n",
       "      <td>-86.7771</td>\n",
       "      <td>36.1749</td>\n",
       "      <td>-86.7819</td>\n",
       "      <td>[[36.164336,-86.777085],[36.164336,-86.777085]...</td>\n",
       "      <td>2018-09-01 12:18:32</td>\n",
       "      <td>2018-09-01 13:10:33</td>\n",
       "    </tr>\n",
       "  </tbody>\n",
       "</table>\n",
       "</div>"
      ],
      "text/plain": [
       "   trip_id companyName tripRecordNum        sumdID  tripDuration  \\\n",
       "0        9        Bird          BRD4  PoweredUNKWN           7.0   \n",
       "1       10        Bird          BRD8  PoweredUNKWN          35.0   \n",
       "2       11        Bird          BRD9  PoweredUNKWN          37.0   \n",
       "3       12        Bird         BRD10  PoweredUNKWN          21.0   \n",
       "4       13        Bird         BRD12  PoweredUNKWN          52.0   \n",
       "\n",
       "   tripDistance  startLatitude  startLongitude  endLatitude  endLongitude  \\\n",
       "0    7007.87424        36.1651        -86.7785      36.1622      -86.7683   \n",
       "1   22473.75400        36.1760        -86.7871      36.1733      -86.7857   \n",
       "2   26912.73052        36.1643        -86.7770      36.1750      -86.7819   \n",
       "3     278.87140        36.1642        -86.7811      36.1647      -86.7803   \n",
       "4   23182.41544        36.1643        -86.7771      36.1749      -86.7819   \n",
       "\n",
       "                                           tripRoute       startDateTime  \\\n",
       "0  [[36.165096,-86.778367],[36.165091,-86.778374]... 2018-09-01 12:13:22   \n",
       "1  [[36.176036,-86.787034],[36.176036,-86.787034]... 2018-09-01 12:14:46   \n",
       "2  [[36.164271,-86.777062],[36.164271,-86.777062]... 2018-09-01 12:15:11   \n",
       "3  [[36.164203,-86.78109],[36.164203,-86.78109],[... 2018-09-01 12:46:21   \n",
       "4  [[36.164336,-86.777085],[36.164336,-86.777085]... 2018-09-01 12:18:32   \n",
       "\n",
       "          endDateTime  \n",
       "0 2018-09-01 12:20:14  \n",
       "1 2018-09-01 12:49:27  \n",
       "2 2018-09-01 12:51:44  \n",
       "3 2018-09-01 13:07:25  \n",
       "4 2018-09-01 13:10:33  "
      ]
     },
     "execution_count": 6,
     "metadata": {},
     "output_type": "execute_result"
    }
   ],
   "source": [
    "data.head()"
   ]
  },
  {
   "cell_type": "code",
   "execution_count": 7,
   "metadata": {},
   "outputs": [
    {
     "data": {
      "text/plain": [
       "{'original number of trips': 1570815,\n",
       " 'number of trips removed during slicing': 23895,\n",
       " 'number of trips removed due to missing values': 25711,\n",
       " 'total number of trips after slicing': 1521209,\n",
       " 'number of trips removed due to duration criteria': 127463,\n",
       " 'number of trips removed due to distance criteria': 374488,\n",
       " 'number of trips removed due to few GPS trips': 1808,\n",
       " 'total number of trips after cleaning': 1017450}"
      ]
     },
     "execution_count": 7,
     "metadata": {},
     "output_type": "execute_result"
    }
   ],
   "source": [
    "#summary of removed data points at key cleaning steps\n",
    "count"
   ]
  },
  {
   "cell_type": "markdown",
   "metadata": {},
   "source": [
    "### Save all trips in dataset"
   ]
  },
  {
   "cell_type": "code",
   "execution_count": 8,
   "metadata": {},
   "outputs": [],
   "source": [
    "#save data with all column\n",
    "data.to_csv('data/cleaned_trip_data.csv')\n",
    "#save data without route data column\n",
    "data.drop(columns=['tripRoute']).to_csv('data/cleaned_sampled_trip_data_withoutRouteData.csv')"
   ]
  },
  {
   "cell_type": "markdown",
   "metadata": {},
   "source": [
    "### save sample dataset"
   ]
  },
  {
   "cell_type": "code",
   "execution_count": 13,
   "metadata": {},
   "outputs": [],
   "source": [
    "#data.sample(400000).to_csv('data/400000_cleaned_sampled_trip_data.csv')\n",
    "hundredThousandk_sample=data.sample(100000, random_state=0)\n",
    "hundredThousandk_sample.to_csv('data/100000_cleaned_sampled_trip_data.csv')\n",
    "hundredThousandk_sample.drop(columns=['tripRoute']).to_csv('data/100000_cleaned_sampled_trip_data_withoutRouteData.csv')"
   ]
  },
  {
   "cell_type": "markdown",
   "metadata": {},
   "source": [
    "# Descriptive Statistics of all data"
   ]
  },
  {
   "cell_type": "code",
   "execution_count": 9,
   "metadata": {},
   "outputs": [
    {
     "data": {
      "image/png": "[encoded data removed]",
      "text/plain": [
       "<Figure size 468x324 with 1 Axes>"
      ]
     },
     "metadata": {
      "needs_background": "light"
     },
     "output_type": "display_data"
    }
   ],
   "source": [
    "fig, ax = plt.subplots(figsize=(6.5,4.5))\n",
    "\n",
    "data['startDateTime'].value_counts().resample('D').sum().plot.line(ax=ax)\n",
    "\n",
    "#axis label\n",
    "_ = plt.xlabel('Months', fontsize=9)    \n",
    "_ = plt.ylabel('Number of trips', fontsize=9)  \n",
    "_ = ax.tick_params(axis='both', which='major', labelsize=7)\n",
    "_ = ax.tick_params(axis='both', which='minor', labelsize=7)\n",
    "\n",
    "plt.savefig('results/DailyTrips_Year.png', dpi=900)"
   ]
  },
  {
   "cell_type": "markdown",
   "metadata": {},
   "source": [
    "# Extracting March Data"
   ]
  },
  {
   "cell_type": "code",
   "execution_count": 11,
   "metadata": {},
   "outputs": [
    {
     "name": "stderr",
     "output_type": "stream",
     "text": [
      "C:\\Users\\nshah12\\Anaconda3\\lib\\site-packages\\ipykernel_launcher.py:5: SettingWithCopyWarning: \n",
      "A value is trying to be set on a copy of a slice from a DataFrame.\n",
      "Try using .loc[row_indexer,col_indexer] = value instead\n",
      "\n",
      "See the caveats in the documentation: http://pandas.pydata.org/pandas-docs/stable/user_guide/indexing.html#returning-a-view-versus-a-copy\n",
      "  \"\"\"\n",
      "C:\\Users\\nshah12\\Anaconda3\\lib\\site-packages\\ipykernel_launcher.py:6: SettingWithCopyWarning: \n",
      "A value is trying to be set on a copy of a slice from a DataFrame.\n",
      "Try using .loc[row_indexer,col_indexer] = value instead\n",
      "\n",
      "See the caveats in the documentation: http://pandas.pydata.org/pandas-docs/stable/user_guide/indexing.html#returning-a-view-versus-a-copy\n",
      "  \n"
     ]
    }
   ],
   "source": [
    "#slice March data\n",
    "data_summer_march = data.loc[(data['startDateTime']>'2019-3-5') & (data['startDateTime']<'2019-4-3')]\n",
    "\n",
    "#create dummy variable for weekend trip (Saturday and Sunday)\n",
    "data_summer_march['weekend_trip']=data_summer_march.apply(lambda x:1 if x['startDateTime'].weekday()>=5 else 0, axis=1)\n",
    "data_summer_march['nonweekend_trip']=data_summer_march.apply(lambda x:1 if x['startDateTime'].weekday()<5 else 0, axis=1)\n",
    "\n",
    "#save data\n",
    "data_summer_march.to_csv('data/MarchMonthData_withRouteData.csv')\n",
    "data_summer_march.drop(columns='tripRoute').to_csv('data/MarchMonthData_withoutRouteData.csv')"
   ]
  },
  {
   "cell_type": "markdown",
   "metadata": {},
   "source": [
    "## Note: Merge landuse data in ArcGIS (codes/files not provided here). The final dataset is prepared in the next notebook."
   ]
  },
  {
   "cell_type": "code",
   "execution_count": null,
   "metadata": {},
   "outputs": [],
   "source": []
  }
 ],
 "metadata": {
  "kernelspec": {
   "display_name": "Python 3",
   "language": "python",
   "name": "python3"
  },
  "language_info": {
   "codemirror_mode": {
    "name": "ipython",
    "version": 3
   },
   "file_extension": ".py",
   "mimetype": "text/x-python",
   "name": "python",
   "nbconvert_exporter": "python",
   "pygments_lexer": "ipython3",
   "version": "3.7.4"
  }
 },
 "nbformat": 4,
 "nbformat_minor": 2
}
